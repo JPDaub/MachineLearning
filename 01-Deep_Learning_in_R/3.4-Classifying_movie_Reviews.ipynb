{
<<<<<<< HEAD
 "cells": [
  {
   "cell_type": "markdown",
   "metadata": {},
   "source": [
    "***\n",
    "\n",
    "This notebook contains the code samples found in Chapter 3, Section 5 of [Deep Learning with R](https://www.manning.com/books/deep-learning-with-r). Note that the original text features far more content, in particular further explanations and figures: in this notebook, you will only find source code and related comments.\n",
    "\n",
    "***\n",
    "\n",
    "Two-class classification, or binary classification, may be the most widely applied kind of machine learning problem. In this example, we will learn to classify movie reviews into \"positive\" reviews and \"negative\" reviews, just based on the text content of the reviews.\n",
    "\n",
    "## The IMDB dataset"
   ]
  },
  {
   "cell_type": "markdown",
   "metadata": {},
   "source": [
    "We'll be working with \"IMDB dataset\", a set of 50,000 highly-polarized reviews from the Internet Movie Database. They are split into 25,000 reviews for training and 25,000 reviews for testing, each set consisting in 50% negative and 50% positive reviews.\n",
    "\n",
    "Why do we have these two separate training and test sets? You should never test a machine learning model on the same data that you used to train it! Just because a model performs well on its training data doesn't mean that it will perform well on data it has never seen, and what you actually care about is your model's performance on new data (since you already know the labels of your training data -- obviously you don't need your model to predict those). For instance, it is possible that your model could end up merely _memorizing_ a mapping between your training samples and their targets -- which would be completely useless for the task of predicting targets for data never seen before. We will go over this point in much more detail in the next chapter.\n",
    "\n",
    "Just like the MNIST dataset, the IMDB dataset comes packaged with Keras. It has already been preprocessed: the reviews (sequences of words) have been turned into sequences of integers, where each integer stands for a specific word in a dictionary.\n",
    "\n",
    "The following code will load the dataset (when you run it for the first time, about 80MB of data will be downloaded to your machine):"
   ]
  },
  {
   "cell_type": "code",
   "execution_count": 5,
   "metadata": {},
   "outputs": [
    {
     "name": "stderr",
     "output_type": "stream",
     "text": [
      "Skipping install of 'keras' from a github remote, the SHA1 (9046d28d) has not changed since last install.\n",
      "  Use `force = TRUE` to force installation\n",
      "\n",
      "Downloading GitHub repo tidyverse/tidyverse@master\n",
      "\n"
     ]
    },
    {
     "name": "stdout",
     "output_type": "stream",
     "text": [
      "vctrs (7ab6f8156... -> 0afd1f3b8...) [GitHub]\n"
     ]
    },
    {
     "name": "stderr",
     "output_type": "stream",
     "text": [
      "Downloading GitHub repo r-lib/vctrs@master\n",
      "\n"
     ]
    },
    {
     "name": "stdout",
     "output_type": "stream",
     "text": [
      "\n",
      "\u001b[32mv\u001b[39m  \u001b[90mchecking for file 'C:\\Users\\sstoeckl\\AppData\\Local\\Temp\\RtmpMTklsu\\remotes563c1a995f17\\r-lib-vctrs-0afd1f3/DESCRIPTION'\u001b[39m\u001b[36m\u001b[39m\n",
      "\u001b[90m-\u001b[39m\u001b[90m  \u001b[39m\u001b[90mpreparing 'vctrs':\u001b[39m\u001b[36m\u001b[36m (391ms)\u001b[36m\u001b[39m\n",
      "\u001b[32mv\u001b[39m  \u001b[90mchecking DESCRIPTION meta-information\u001b[39m\u001b[36m\u001b[39m\n",
      "\u001b[90m-\u001b[39m\u001b[90m  \u001b[39m\u001b[90mcleaning src\u001b[39m\u001b[36m\u001b[39m\n",
      "\u001b[90m-\u001b[39m\u001b[90m  \u001b[39m\u001b[90minstalling the package to process help pages\u001b[39m\u001b[36m\u001b[39m\n",
      "\u001b[90m-\u001b[39m\u001b[90m  \u001b[39m\u001b[90mcleaning src\u001b[39m\u001b[36m\u001b[36m (13.5s)\u001b[36m\u001b[39m\n",
      "\u001b[90m-\u001b[39m\u001b[90m  \u001b[39m\u001b[90mchecking for LF line-endings in source and make files and shell scripts\u001b[39m\u001b[36m\u001b[39m\n",
      "\u001b[90m-\u001b[39m\u001b[90m  \u001b[39m\u001b[90mchecking for empty or unneeded directories\u001b[39m\u001b[36m\u001b[39m\n",
      "\u001b[90m-\u001b[39m\u001b[90m  \u001b[39m\u001b[90mbuilding 'vctrs_0.2.0.9007.tar.gz'\u001b[39m\u001b[36m\u001b[39m\n",
      "   \n",
      "\r"
     ]
    },
    {
     "name": "stderr",
     "output_type": "stream",
     "text": [
      "Installing package into 'C:/R/library'\n",
      "(as 'lib' is unspecified)\n",
      "\n"
     ]
    },
    {
     "ename": "ERROR",
     "evalue": "Error: Failed to install 'tidyverse' from GitHub:\n  Failed to install 'vctrs' from GitHub:\n  (konvertiert von Warnung) installation of package 'C:/Users/sstoeckl/AppData/Local/Temp/RtmpMTklsu/file563c38c750e3/vctrs_0.2.0.9007.tar.gz' had non-zero exit status\n",
     "output_type": "error",
     "traceback": [
      "Error: Failed to install 'tidyverse' from GitHub:\n  Failed to install 'vctrs' from GitHub:\n  (konvertiert von Warnung) installation of package 'C:/Users/sstoeckl/AppData/Local/Temp/RtmpMTklsu/file563c38c750e3/vctrs_0.2.0.9007.tar.gz' had non-zero exit status\nTraceback:\n",
      "1. devtools::install_github(\"tidyverse/tidyverse\")",
      "2. pkgbuild::with_build_tools({\n .     ellipsis::check_dots_used()\n .     remotes <- lapply(repo, github_remote, ref = ref, subdir = subdir, \n .         auth_token = auth_token, host = host)\n .     install_remotes(remotes, auth_token = auth_token, host = host, \n .         dependencies = dependencies, upgrade = upgrade, force = force, \n .         quiet = quiet, build = build, build_opts = build_opts, \n .         build_manual = build_manual, build_vignettes = build_vignettes, \n .         repos = repos, type = type, ...)\n . }, required = FALSE)",
      "3. withr::with_path(rtools_path(), code)",
      "4. force(code)",
      "5. install_remotes(remotes, auth_token = auth_token, host = host, \n .     dependencies = dependencies, upgrade = upgrade, force = force, \n .     quiet = quiet, build = build, build_opts = build_opts, build_manual = build_manual, \n .     build_vignettes = build_vignettes, repos = repos, type = type, \n .     ...)",
      "6. tryCatch(res[[i]] <- install_remote(remotes[[i]], ...), error = function(e) {\n .     stop(remote_install_error(remotes[[i]], e))\n . })",
      "7. tryCatchList(expr, classes, parentenv, handlers)",
      "8. tryCatchOne(expr, names, parentenv, handlers[[1L]])",
      "9. value[[3L]](cond)"
     ]
    }
   ],
   "source": [
    "devtools::install_github(\"rstudio/keras\")\n",
    "devtools::install_github(\"tidyverse/tidyverse\")"
   ]
  },
  {
   "cell_type": "code",
   "execution_count": 4,
   "metadata": {
    "collapsed": true,
    "jupyter": {
     "outputs_hidden": true
    },
    "results": "'hide'"
   },
   "outputs": [
    {
     "ename": "ERROR",
     "evalue": "Error: package or namespace load failed for 'tidyverse':\n package 'vctrs' does not have a namespace\n",
     "output_type": "error",
     "traceback": [
      "Error: package or namespace load failed for 'tidyverse':\n package 'vctrs' does not have a namespace\nTraceback:\n",
      "1. library(tidyverse)",
      "2. tryCatch({\n .     attr(package, \"LibPath\") <- which.lib.loc\n .     ns <- loadNamespace(package, lib.loc)\n .     env <- attachNamespace(ns, pos = pos, deps, exclude, include.only)\n . }, error = function(e) {\n .     P <- if (!is.null(cc <- conditionCall(e))) \n .         paste(\" in\", deparse(cc)[1L])\n .     else \"\"\n .     msg <- gettextf(\"package or namespace load failed for %s%s:\\n %s\", \n .         sQuote(package), P, conditionMessage(e))\n .     if (logical.return) \n .         message(paste(\"Error:\", msg), domain = NA)\n .     else stop(msg, call. = FALSE, domain = NA)\n . })",
      "3. tryCatchList(expr, classes, parentenv, handlers)",
      "4. tryCatchOne(expr, names, parentenv, handlers[[1L]])",
      "5. value[[3L]](cond)",
      "6. stop(msg, call. = FALSE, domain = NA)"
     ]
    }
   ],
   "source": [
    "library(keras); library(tidyverse)\n",
    "imdb <- dataset_imdb(num_words = 10000)\n",
    "c(c(train_data, train_labels), c(test_data, test_labels)) %<-% imdb"
   ]
  },
  {
   "cell_type": "markdown",
   "metadata": {},
   "source": [
    "The argument `num_words = 10000` means that we will only keep the top 10,000 most frequently occurring words in the training data. Rare words will be discarded. This allows us to work with vector data of manageable size.\n",
    "\n",
    "The variables `train_data` and `test_data` are lists of reviews, each review being a list of word indices (encoding a sequence of words). `train_labels` and `test_labels` are lists of 0s and 1s, where 0 stands for \"negative\" and 1 stands for \"positive\":"
   ]
  },
  {
   "cell_type": "code",
   "execution_count": null,
   "metadata": {},
   "outputs": [],
   "source": [
    "str(train_data[[1]])"
   ]
  },
  {
   "cell_type": "code",
   "execution_count": null,
   "metadata": {},
   "outputs": [],
   "source": [
    "train_labels[[1]]"
   ]
  },
  {
   "cell_type": "markdown",
   "metadata": {},
   "source": [
    "Since we restricted ourselves to the top 10,000 most frequent words, no word index will exceed 10,000:"
   ]
  },
  {
   "cell_type": "code",
   "execution_count": null,
   "metadata": {},
   "outputs": [],
   "source": [
    "max(sapply(train_data, max))"
   ]
  },
  {
   "cell_type": "markdown",
   "metadata": {},
   "source": [
    "For kicks, here's how you can quickly decode one of these reviews back to English words:"
   ]
  },
  {
   "cell_type": "code",
   "execution_count": null,
   "metadata": {},
   "outputs": [],
   "source": [
    "# word_index is a dictionary mapping words to an integer index\n",
    "word_index <- dataset_imdb_word_index()\n",
    "# We reverse it, mapping integer indices to words\n",
    "reverse_word_index <- names(word_index)\n",
    "names(reverse_word_index) <- word_index\n",
    "# We decode the review; note that our indices were offset by 3\n",
    "# because 0, 1 and 2 are reserved indices for \"padding\", \"start of sequence\", and \"unknown\".\n",
    "decoded_review <- sapply(train_data[[1]], function(index) {\n",
    "  word <- if (index >= 3) reverse_word_index[[as.character(index - 3)]]\n",
    "  if (!is.null(word)) word else \"?\"\n",
    "})"
   ]
  },
  {
   "cell_type": "code",
   "execution_count": null,
   "metadata": {},
   "outputs": [],
   "source": [
    "cat(decoded_review)"
   ]
  },
  {
   "cell_type": "markdown",
   "metadata": {},
   "source": [
    "## Preparing the data"
   ]
  },
  {
   "cell_type": "markdown",
   "metadata": {},
   "source": [
    "You can't feed lists of integers into a neural network. You have to turn your lists into tensors. There are two ways to do that:\n",
    "\n",
    "* Pad your lists so that they all have the same length, turn them into an integer tensor of shape `(samples, word_indices)`, and then use as the first layer in your network a layer capable of handling such integer tensors (the \"embedding\" layer, which we'll cover in detail later in the book).\n",
    "* One-hot-encode your lists to turn them into vectors of 0s and 1s. This would mean, for instance, turning the sequence `[3, 5]` into a 10,000-dimensional vector that would be all zeros except for indices 3 and 5, which would be ones. Then you could use as the first layer in your network a dense layer, capable of handling floating-point vector data.\n",
    "\n",
    "Let's go with the latter solution and vectorize the data, which you'll do manually for maximum clarity."
   ]
  },
  {
   "cell_type": "code",
   "execution_count": null,
   "metadata": {},
   "outputs": [],
   "source": [
    "vectorize_sequences <- function(sequences, dimension = 10000) {\n",
    "  # Create an all-zero matrix of shape (len(sequences), dimension)\n",
    "  results <- matrix(0, nrow = length(sequences), ncol = dimension)\n",
    "  for (i in 1:length(sequences))\n",
    "    # Sets specific indices of results[i] to 1s\n",
    "    results[i, sequences[[i]]] <- 1\n",
    "  results\n",
    "}\n",
    "# Our vectorized training data\n",
    "x_train <- vectorize_sequences(train_data)\n",
    "# Our vectorized test data\n",
    "x_test <- vectorize_sequences(test_data)"
   ]
  },
  {
   "cell_type": "markdown",
   "metadata": {},
   "source": [
    "Here's what our samples look like now:"
   ]
  },
  {
   "cell_type": "code",
   "execution_count": null,
   "metadata": {},
   "outputs": [],
   "source": [
    "str(x_train[1,])"
   ]
  },
  {
   "cell_type": "markdown",
   "metadata": {},
   "source": [
    "We should also vectorize our labels, which is straightforward:"
   ]
  },
  {
   "cell_type": "code",
   "execution_count": null,
   "metadata": {},
   "outputs": [],
   "source": [
    "# Our vectorized labels\n",
    "y_train <- as.numeric(train_labels)\n",
    "y_test <- as.numeric(test_labels)"
   ]
  },
  {
   "cell_type": "markdown",
   "metadata": {},
   "source": [
    "Now our data is ready to be fed into a neural network.\n",
    "\n",
    "## Building our network\n",
    "\n",
    "The input data is vectors, and the labels are scalars (1s and 0s): this is the easiest setup you'll ever encounter. A type of network that performs well on such a problem is a simple stack of fully connected (\"dense\") layers with `relu` activations: `layer_dense(units = 16, activation = \"relu\")`.\n",
    "\n",
    "The argument being passed to each dense layer (16) is the number of hidden units of the layer. A _hidden unit_ is a dimension in the representation space of the layer. You may remember from chapter 2 that each such dense layer with a `relu` activation implements the following chain of tensor operations:\n",
    "\n",
    "`output = relu(dot(W, input) + b)`\n",
    "\n",
    "Having 16 hidden units means that the weight matrix `W` will have shape `(input_dimension, 16)`, i.e. the dot product with `W` will project the input data onto a 16-dimensional representation space (and then we would add the bias vector `b` and apply the `relu` operation). You can intuitively understand the dimensionality of your representation space as \"how much freedom you are allowing the network to have when learning internal representations\". Having more hidden units (a higher-dimensional representation space) allows your network to learn more complex representations, but it makes your network more computationally expensive and may lead to learning unwanted patterns (patterns that will improve performance on the training data but not on the test data).\n",
    "\n",
    "There are two key architecture decisions to be made about such stack of dense layers:\n",
    "\n",
    "* How many layers to use.\n",
    "* How many \"hidden units\" to chose for each layer.\n",
    "\n",
    "In the next chapter, you will learn formal principles to guide you in making these choices. For the time being, you will have to trust us with the following architecture choice: two intermediate layers with 16 hidden units each, and a third layer which will output the scalar prediction regarding the sentiment of the current review. The intermediate layers will use `relu` as their \"activation function\", and the final layer will use a sigmoid activation so as to output a probability (a score between 0 and 1, indicating how likely the sample is to have the target \"1\", i.e. how likely the review is to be positive). A `relu` (rectified linear unit) is a function meant to zero-out negative values, while a sigmoid \"squashes\" arbitrary values into the `[0, 1]` interval, thus outputting something that can be interpreted as a probability.\n",
    "\n",
    "Here's what our network looks like:\n",
    "\n",
    "![3-layer network](https://s3.amazonaws.com/book.keras.io/img/ch3/3_layer_network.png)\n",
    "\n",
    "And here's the Keras implementation, very similar to the MNIST example you saw previously:"
   ]
  },
  {
   "cell_type": "code",
   "execution_count": null,
   "metadata": {},
   "outputs": [],
   "source": [
    "library(keras)\n",
    "model <- keras_model_sequential() %>% \n",
    "  layer_dense(units = 16, activation = \"relu\", input_shape = c(10000)) %>% \n",
    "  layer_dense(units = 16, activation = \"relu\") %>% \n",
    "  layer_dense(units = 1, activation = \"sigmoid\")"
   ]
  },
  {
   "cell_type": "markdown",
   "metadata": {},
   "source": [
    "Lastly, we need to pick a loss function and an optimizer. Since we are facing a binary classification problem and the output of our network is a probability (we end our network with a single-unit layer with a sigmoid activation), is it best to use the `binary_crossentropy` loss. It isn't the only viable choice: you could use, for instance, `mean_squared_error`. But crossentropy is usually the best choice when you are dealing with models that output probabilities. Crossentropy is a quantity from the field of Information Theory, that measures the \"distance\" between probability distributions, or in our case, between the ground-truth distribution and our predictions.\n",
    "\n",
    "Here's the step where we configure our model with the `rmsprop` optimizer and the `binary_crossentropy` loss function. Note that we will also monitor accuracy during training."
   ]
  },
  {
   "cell_type": "code",
   "execution_count": null,
   "metadata": {},
   "outputs": [],
   "source": [
    "model %>% compile(\n",
    "  optimizer = \"rmsprop\",\n",
    "  loss = \"binary_crossentropy\",\n",
    "  metrics = c(\"accuracy\")\n",
    ")"
   ]
  },
  {
   "cell_type": "markdown",
   "metadata": {},
   "source": [
    "You're passing your optimizer, loss function, and metrics as strings, which is possible because `rmsprop`, `binary_crossentropy`, and `accuracy` are packaged as part of Keras. Sometimes you may want to configure the parameters of your optimizer or pass a custom loss function or metric function. The former can be done by passing an optimizer instance as the `optimizer` argument: \n"
   ]
  },
  {
   "cell_type": "code",
   "execution_count": null,
   "metadata": {},
   "outputs": [],
   "source": [
    "model %>% compile(\n",
    "  optimizer = optimizer_rmsprop(lr=0.001),\n",
    "  loss = \"binary_crossentropy\",\n",
    "  metrics = c(\"accuracy\")\n",
    ") "
   ]
  },
  {
   "cell_type": "markdown",
   "metadata": {},
   "source": [
    "The latter can be done by passing function objects as the `loss` or `metrics` arguments:"
   ]
  },
  {
   "cell_type": "code",
   "execution_count": null,
   "metadata": {},
   "outputs": [],
   "source": [
    "model %>% compile(\n",
    "  optimizer = optimizer_rmsprop(lr = 0.001),\n",
    "  loss = loss_binary_crossentropy,\n",
    "  metrics = metric_binary_accuracy\n",
    ") "
   ]
  },
  {
   "cell_type": "markdown",
   "metadata": {},
   "source": [
    "## Validating our approach\n",
    "\n",
    "In order to monitor during training the accuracy of the model on data that it has never seen before, we will create a \"validation set\" by setting apart 10,000 samples from the original training data:"
   ]
  },
  {
   "cell_type": "code",
   "execution_count": null,
   "metadata": {},
   "outputs": [],
   "source": [
    "val_indices <- 1:10000\n",
    "x_val <- x_train[val_indices,]\n",
    "partial_x_train <- x_train[-val_indices,]\n",
    "y_val <- y_train[val_indices]\n",
    "partial_y_train <- y_train[-val_indices]"
   ]
  },
  {
   "cell_type": "markdown",
   "metadata": {},
   "source": [
    "We will now train our model for 20 epochs (20 iterations over all samples in the `x_train` and `y_train` tensors), in mini-batches of 512 samples. At this same time we will monitor loss and accuracy on the 10,000 samples that we set apart. This is done by passing the validation data as the `validation_data` argument:"
   ]
  },
  {
   "cell_type": "code",
   "execution_count": null,
   "metadata": {
    "hide_input": false,
    "results": "'hide'"
   },
   "outputs": [],
   "source": [
    "model %>% compile(\n",
    "  optimizer = \"rmsprop\",\n",
    "  loss = \"binary_crossentropy\",\n",
    "  metrics = c(\"accuracy\")\n",
    ")\n",
    "history <- model %>% fit(\n",
    "  partial_x_train,\n",
    "  partial_y_train,\n",
    "  epochs = 20,\n",
    "  batch_size = 512,\n",
    "  validation_data = list(x_val, y_val)\n",
    ")"
   ]
  },
  {
   "cell_type": "markdown",
   "metadata": {},
   "source": [
    "On CPU, this will take less than two seconds per epoch -- training is over in 20 seconds. At the end of every epoch, there is a slight pause as the model computes its loss and accuracy on the 10,000 samples of the validation data.\n",
    "\n",
    "Note that the call to `fit()` returns a `history` object. Let's take a look at it:"
   ]
  },
  {
   "cell_type": "code",
   "execution_count": null,
   "metadata": {},
   "outputs": [],
   "source": [
    "str(history)"
   ]
  },
  {
   "cell_type": "markdown",
   "metadata": {},
   "source": [
    "The `history` object includes various parameters used to fit the model (`history$params`) as well as data for each of the metrics being monitored (`history$metrics`).\n",
    "\n",
    "The `history` object has a `plot()` method that enables us to visualize the training and validation metrics by epoch:"
   ]
  },
  {
   "cell_type": "code",
   "execution_count": null,
   "metadata": {},
   "outputs": [],
   "source": [
    "plot(history)"
   ]
  },
  {
   "cell_type": "markdown",
   "metadata": {},
   "source": [
    "The accuracy is plotted on the top panel and the loss on the bottom panel. Note that your own results may vary \n",
    "slightly due to a different random initialization of your network.\n"
   ]
  },
  {
   "cell_type": "markdown",
   "metadata": {},
   "source": [
    "The dots are the training loss and accuracy, while the solid lines are the validation loss and accuracy. Note that your own results may vary slightly due to a different random initialization of your network.\n",
    "\n",
    "As you can see, the training loss decreases with every epoch, and the training accuracy increases with every epoch. That's what you would expect when running a gradient-descent optimization -- the quantity you're trying to minimize should be less with every iteration. But that isn't the case for the validation loss and accuracy: they seem to peak at the fourth epoch. This is an example of what we warned against earlier: a model that performs better on the training data isn't necessarily a model that will do better on data it has never seen before. In precise terms, what you're seeing is _overfitting_: after the second epoch, you're over-optimizing on the training data, and you end up learning representations that are specific to the training data and don't generalize to data outside of the training set.\n",
    "\n",
    "In this case, to prevent overfitting, you could stop training after three epochs. In general, you can use a range of techniques to mitigate overfitting, which we'll cover in chapter 4.\n",
    "\n",
    "Let's train a new network from scratch for four epochs and then evaluate it on the test data."
   ]
  },
  {
   "cell_type": "code",
   "execution_count": null,
   "metadata": {
    "hide_input": false,
    "results": "'hide'"
   },
   "outputs": [],
   "source": [
    "model <- keras_model_sequential() %>% \n",
    "  layer_dense(units = 16, activation = \"relu\", input_shape = c(10000)) %>% \n",
    "  layer_dense(units = 16, activation = \"relu\") %>% \n",
    "  layer_dense(units = 1, activation = \"sigmoid\")\n",
    "model %>% compile(\n",
    "  optimizer = \"rmsprop\",\n",
    "  loss = \"binary_crossentropy\",\n",
    "  metrics = c(\"accuracy\")\n",
    ")\n",
    "model %>% fit(x_train, y_train, epochs = 4, batch_size = 512)\n",
    "results <- model %>% evaluate(x_test, y_test)"
   ]
  },
  {
   "cell_type": "code",
   "execution_count": null,
   "metadata": {},
   "outputs": [],
   "source": [
    "results"
   ]
  },
  {
   "cell_type": "markdown",
   "metadata": {},
   "source": [
    "Our fairly naive approach achieves an accuracy of 88%. With state-of-the-art approaches, one should be able to get close to 95%.\n",
    "\n",
    "## Using a trained network to generate predictions on new data\n",
    "\n",
    "After having trained a network, you'll want to use it in a practical setting. You can generate the likelihood of reviews being positive by using the `predict` method:"
   ]
  },
  {
   "cell_type": "code",
   "execution_count": null,
   "metadata": {},
   "outputs": [],
   "source": [
    "model %>% predict(x_test[1:10,])"
   ]
  },
  {
   "cell_type": "markdown",
   "metadata": {},
   "source": [
    "As you can see, the network is very confident for some samples (0.99 or more, or 0.02 or less) but less confident for others. \n",
    "\n",
    "## Further experiments"
   ]
  },
  {
   "cell_type": "markdown",
   "metadata": {},
   "source": [
    "* We were using 2 hidden layers. Try to use 1 or 3 hidden layers and see how it affects validation and test accuracy.\n",
    "* Try to use layers with more hidden units or less hidden units: 32 units, 64 units...\n",
    "* Try to use the `mse` loss function instead of `binary_crossentropy`.\n",
    "* Try to use the `tanh` activation (an activation that was popular in the early days of neural networks) instead of `relu`.\n",
    "\n",
    "These experiments will help convince you that the architecture choices we have made are all fairly reasonable, although they can still be improved!\n",
    "\n",
    "## Conclusions"
   ]
  },
  {
   "cell_type": "markdown",
   "metadata": {},
   "source": [
    "Here's what you should take away from this example:\n",
    "\n",
    "* You usually need to do quite a bit of preprocessing on your raw data in order to be able to feed it -- as tensors -- into a neural network. Sequences of words can be encoded as binary vectors, but there are other encoding options, too.\n",
    "* Stacks of dense layers with `relu` activations can solve a wide range of problems (including sentiment classification), and you'll likely use them frequently.\n",
    "* In a binary classification problem (two output classes), your network should end with a dense layer with one unit and a `sigmoid` activation. That is, the output of your network should be a scalar between 0 and 1, encoding a probability.\n",
    "* With such a scalar sigmoid output on a binary classification problem, the loss function you should use is `binary_crossentropy`.\n",
    "* The `rmsprop` optimizer is generally a good enough choice, whatever your problem. That's one less thing for you to worry about.\n",
    "* As they get better on their training data, neural networks eventually start _overfitting_ and end up obtaining increasingly worse results on data they've never seen before. Be sure to always monitor performance on data that is outside of the training set.\n"
   ]
  }
 ],
 "metadata": {
  "jupytext": {
   "formats": "ipynb,Rmd"
  },
  "kernelspec": {
   "display_name": "R",
   "language": "R",
   "name": "ir"
  },
  "language_info": {
   "codemirror_mode": "r",
   "file_extension": ".r",
   "mimetype": "text/x-r-source",
   "name": "R",
   "pygments_lexer": "r",
   "version": "3.6.1"
  }
 },
 "nbformat": 4,
 "nbformat_minor": 4
}
=======
  "nbformat": 4,
  "nbformat_minor": 0,
  "metadata": {
    "jupytext": {
      "formats": "ipynb,Rmd"
    },
    "kernelspec": {
      "display_name": "R",
      "language": "R",
      "name": "ir"
    },
    "language_info": {
      "codemirror_mode": "r",
      "file_extension": ".r",
      "mimetype": "text/x-r-source",
      "name": "R",
      "pygments_lexer": "r",
      "version": "3.6.1"
    },
    "colab": {
      "name": "3.4-Classifying_movie_Reviews.ipynb",
      "provenance": [],
      "toc_visible": true
    },
    "accelerator": "GPU"
  },
  "cells": [
    {
      "cell_type": "markdown",
      "metadata": {
        "id": "loMSvpOuu2tq",
        "colab_type": "text"
      },
      "source": [
        "***\n",
        "\n",
        "This notebook contains the code samples found in Chapter 3, Section 5 of [Deep Learning with R](https://www.manning.com/books/deep-learning-with-r). Note that the original text features far more content, in particular further explanations and figures: in this notebook, you will only find source code and related comments.\n",
        "\n",
        "***\n",
        "\n",
        "Two-class classification, or binary classification, may be the most widely applied kind of machine learning problem. In this example, we will learn to classify movie reviews into \"positive\" reviews and \"negative\" reviews, just based on the text content of the reviews.\n",
        "\n",
        "## The IMDB dataset"
      ]
    },
    {
      "cell_type": "markdown",
      "metadata": {
        "id": "_bBM1cUzu2tt",
        "colab_type": "text"
      },
      "source": [
        "We'll be working with \"IMDB dataset\", a set of 50,000 highly-polarized reviews from the Internet Movie Database. They are split into 25,000 reviews for training and 25,000 reviews for testing, each set consisting in 50% negative and 50% positive reviews.\n",
        "\n",
        "Why do we have these two separate training and test sets? You should never test a machine learning model on the same data that you used to train it! Just because a model performs well on its training data doesn't mean that it will perform well on data it has never seen, and what you actually care about is your model's performance on new data (since you already know the labels of your training data -- obviously you don't need your model to predict those). For instance, it is possible that your model could end up merely _memorizing_ a mapping between your training samples and their targets -- which would be completely useless for the task of predicting targets for data never seen before. We will go over this point in much more detail in the next chapter.\n",
        "\n",
        "Just like the MNIST dataset, the IMDB dataset comes packaged with Keras. It has already been preprocessed: the reviews (sequences of words) have been turned into sequences of integers, where each integer stands for a specific word in a dictionary.\n",
        "\n",
        "The following code will load the dataset (when you run it for the first time, about 80MB of data will be downloaded to your machine):"
      ]
    },
    {
      "cell_type": "code",
      "metadata": {
        "id": "dXAvQqTau9uu",
        "colab_type": "code",
        "colab": {
          "base_uri": "https://localhost:8080/",
          "height": 612
        },
        "outputId": "5af96817-5869-4c79-edf5-3cc5b21e195c"
      },
      "source": [
        "devtools::install_github(\"rstudio/keras\")\n",
        "devtools::install_github(\"tidyverse/tidyverse\")"
      ],
      "execution_count": 1,
      "outputs": [
        {
          "output_type": "stream",
          "text": [
            "Downloading GitHub repo rstudio/keras@master\n"
          ],
          "name": "stderr"
        },
        {
          "output_type": "stream",
          "text": [
            "reticulate (NA    -> 1.13 ) [CRAN]\n",
            "tensorflow (NA    -> 2.0.0) [CRAN]\n",
            "tfruns     (NA    -> 1.4  ) [CRAN]\n",
            "config     (NA    -> 0.3  ) [CRAN]\n",
            "rlang      (0.4.0 -> 0.4.1) [CRAN]\n"
          ],
          "name": "stdout"
        },
        {
          "output_type": "stream",
          "text": [
            "Installing 5 packages: reticulate, tensorflow, tfruns, config, rlang\n",
            "Installing packages into ‘/usr/local/lib/R/site-library’\n",
            "(as ‘lib’ is unspecified)\n"
          ],
          "name": "stderr"
        },
        {
          "output_type": "stream",
          "text": [
            "\u001b[32m✔\u001b[39m  \u001b[90mchecking for file ‘/tmp/Rtmp0dB6f4/remotes7c718580f5/rstudio-keras-9046d28/DESCRIPTION’\u001b[39m\u001b[36m\u001b[39m\n",
            "\u001b[90m─\u001b[39m\u001b[90m  \u001b[39m\u001b[90mpreparing ‘keras’:\u001b[39m\u001b[36m\u001b[39m\n",
            "\u001b[32m✔\u001b[39m  \u001b[90mchecking DESCRIPTION meta-information\u001b[39m\u001b[36m\u001b[39m\n",
            "\u001b[90m─\u001b[39m\u001b[90m  \u001b[39m\u001b[90mchecking for LF line-endings in source and make files and shell scripts\u001b[39m\u001b[36m\u001b[36m (441ms)\u001b[36m\u001b[39m\n",
            "\u001b[90m─\u001b[39m\u001b[90m  \u001b[39m\u001b[90mchecking for empty or unneeded directories\u001b[39m\u001b[36m\u001b[39m\n",
            "   Removed empty directory ‘keras/man-roxygen’\n",
            "\u001b[90m─\u001b[39m\u001b[90m  \u001b[39m\u001b[90mbuilding ‘keras_2.2.5.0.tar.gz’\u001b[39m\u001b[36m\u001b[39m\n",
            "   \n"
          ],
          "name": "stdout"
        },
        {
          "output_type": "stream",
          "text": [
            "Installing package into ‘/usr/local/lib/R/site-library’\n",
            "(as ‘lib’ is unspecified)\n",
            "Downloading GitHub repo tidyverse/tidyverse@master\n"
          ],
          "name": "stderr"
        },
        {
          "output_type": "stream",
          "text": [
            "hms     (0.5.1  -> 0.5.2 ) [CRAN]\n",
            "digest  (0.6.21 -> 0.6.22) [CRAN]\n",
            "tinytex (0.16   -> 0.17  ) [CRAN]\n"
          ],
          "name": "stdout"
        },
        {
          "output_type": "stream",
          "text": [
            "Installing 3 packages: hms, digest, tinytex\n",
            "Installing packages into ‘/usr/local/lib/R/site-library’\n",
            "(as ‘lib’ is unspecified)\n"
          ],
          "name": "stderr"
        },
        {
          "output_type": "stream",
          "text": [
            "\u001b[32m✔\u001b[39m  \u001b[90mchecking for file ‘/tmp/Rtmp0dB6f4/remotes7c586c8945/tidyverse-tidyverse-6271023/DESCRIPTION’\u001b[39m\u001b[36m\u001b[39m\n",
            "\u001b[90m─\u001b[39m\u001b[90m  \u001b[39m\u001b[90mpreparing ‘tidyverse’:\u001b[39m\u001b[36m\u001b[39m\n",
            "\u001b[32m✔\u001b[39m  \u001b[90mchecking DESCRIPTION meta-information\u001b[39m\u001b[36m\u001b[39m\n",
            "\u001b[90m─\u001b[39m\u001b[90m  \u001b[39m\u001b[90mchecking for LF line-endings in source and make files and shell scripts\u001b[39m\u001b[36m\u001b[39m\n",
            "\u001b[90m─\u001b[39m\u001b[90m  \u001b[39m\u001b[90mchecking for empty or unneeded directories\u001b[39m\u001b[36m\u001b[39m\n",
            "\u001b[90m─\u001b[39m\u001b[90m  \u001b[39m\u001b[90mbuilding ‘tidyverse_1.2.1.9000.tar.gz’\u001b[39m\u001b[36m\u001b[39m\n",
            "   \n"
          ],
          "name": "stdout"
        },
        {
          "output_type": "stream",
          "text": [
            "Installing package into ‘/usr/local/lib/R/site-library’\n",
            "(as ‘lib’ is unspecified)\n"
          ],
          "name": "stderr"
        }
      ]
    },
    {
      "cell_type": "code",
      "metadata": {
        "results": "'hide'",
        "id": "swZVjSDbu2tv",
        "colab_type": "code",
        "colab": {}
      },
      "source": [
        "library(keras)\n",
        "imdb <- dataset_imdb(num_words = 10000)\n",
        "c(c(train_data, train_labels), c(test_data, test_labels)) %<-% imdb"
      ],
      "execution_count": 0,
      "outputs": []
    },
    {
      "cell_type": "markdown",
      "metadata": {
        "id": "1X2i3EC9u2ty",
        "colab_type": "text"
      },
      "source": [
        "The argument `num_words = 10000` means that we will only keep the top 10,000 most frequently occurring words in the training data. Rare words will be discarded. This allows us to work with vector data of manageable size.\n",
        "\n",
        "The variables `train_data` and `test_data` are lists of reviews, each review being a list of word indices (encoding a sequence of words). `train_labels` and `test_labels` are lists of 0s and 1s, where 0 stands for \"negative\" and 1 stands for \"positive\":"
      ]
    },
    {
      "cell_type": "code",
      "metadata": {
        "id": "mnlZepv8u2ty",
        "colab_type": "code",
        "colab": {
          "base_uri": "https://localhost:8080/",
          "height": 34
        },
        "outputId": "1cbf0561-bc32-49bc-80c5-1d0808182e9a"
      },
      "source": [
        "str(train_data[[1]])"
      ],
      "execution_count": 3,
      "outputs": [
        {
          "output_type": "stream",
          "text": [
            " int [1:218] 1 14 22 16 43 530 973 1622 1385 65 ...\n"
          ],
          "name": "stdout"
        }
      ]
    },
    {
      "cell_type": "code",
      "metadata": {
        "id": "byHprbKzu2t2",
        "colab_type": "code",
        "colab": {
          "base_uri": "https://localhost:8080/",
          "height": 34
        },
        "outputId": "0a415795-8ce8-4dc2-fc88-c1877a93b4f2"
      },
      "source": [
        "train_labels[[1]]"
      ],
      "execution_count": 4,
      "outputs": [
        {
          "output_type": "display_data",
          "data": {
            "text/plain": [
              "[1] 1"
            ],
            "text/latex": "1",
            "text/markdown": "1",
            "text/html": [
              "1"
            ]
          },
          "metadata": {
            "tags": []
          }
        }
      ]
    },
    {
      "cell_type": "markdown",
      "metadata": {
        "id": "HtjPZnYdu2t4",
        "colab_type": "text"
      },
      "source": [
        "Since we restricted ourselves to the top 10,000 most frequent words, no word index will exceed 10,000:"
      ]
    },
    {
      "cell_type": "code",
      "metadata": {
        "id": "QjnkXW7Zu2t5",
        "colab_type": "code",
        "colab": {
          "base_uri": "https://localhost:8080/",
          "height": 34
        },
        "outputId": "8b7a8bae-aac3-4917-bae7-c235b74556bb"
      },
      "source": [
        "max(sapply(train_data, max))"
      ],
      "execution_count": 5,
      "outputs": [
        {
          "output_type": "display_data",
          "data": {
            "text/plain": [
              "[1] 9999"
            ],
            "text/latex": "9999",
            "text/markdown": "9999",
            "text/html": [
              "9999"
            ]
          },
          "metadata": {
            "tags": []
          }
        }
      ]
    },
    {
      "cell_type": "markdown",
      "metadata": {
        "id": "t5zU3rzOu2t7",
        "colab_type": "text"
      },
      "source": [
        "For kicks, here's how you can quickly decode one of these reviews back to English words:"
      ]
    },
    {
      "cell_type": "code",
      "metadata": {
        "id": "KiutE7Axu2t8",
        "colab_type": "code",
        "colab": {}
      },
      "source": [
        "# word_index is a dictionary mapping words to an integer index\n",
        "word_index <- dataset_imdb_word_index()\n",
        "# We reverse it, mapping integer indices to words\n",
        "reverse_word_index <- names(word_index)\n",
        "names(reverse_word_index) <- word_index\n",
        "# We decode the review; note that our indices were offset by 3\n",
        "# because 0, 1 and 2 are reserved indices for \"padding\", \"start of sequence\", and \"unknown\".\n",
        "decoded_review <- sapply(train_data[[1]], function(index) {\n",
        "  word <- if (index >= 3) reverse_word_index[[as.character(index - 3)]]\n",
        "  if (!is.null(word)) word else \"?\"\n",
        "})"
      ],
      "execution_count": 0,
      "outputs": []
    },
    {
      "cell_type": "code",
      "metadata": {
        "id": "5D1S4WXPu2t_",
        "colab_type": "code",
        "colab": {
          "base_uri": "https://localhost:8080/",
          "height": 54
        },
        "outputId": "ec764df3-9d4a-4526-ad6a-09a6ae82e154"
      },
      "source": [
        "cat(decoded_review)"
      ],
      "execution_count": 7,
      "outputs": [
        {
          "output_type": "stream",
          "text": [
            "? this film was just brilliant casting location scenery story direction everyone's really suited the part they played and you could just imagine being there robert ? is an amazing actor and now the same being director ? father came from the same scottish island as myself so i loved the fact there was a real connection with this film the witty remarks throughout the film were great it was just brilliant so much that i bought the film as soon as it was released for ? and would recommend it to everyone to watch and the fly fishing was amazing really cried at the end it was so sad and you know what they say if you cry at a film it must have been good and this definitely was also ? to the two little boy's that played the ? of norman and paul they were just brilliant children are often left out of the ? list i think because the stars that play them all grown up are such a big profile for the whole film but these children are amazing and should be praised for what they have done don't you think the whole story was so lovely because it was true and was someone's life after all that was shared with us all"
          ],
          "name": "stdout"
        }
      ]
    },
    {
      "cell_type": "markdown",
      "metadata": {
        "id": "lDNj4RRUu2uB",
        "colab_type": "text"
      },
      "source": [
        "## Preparing the data"
      ]
    },
    {
      "cell_type": "markdown",
      "metadata": {
        "id": "RQbXwXVQu2uC",
        "colab_type": "text"
      },
      "source": [
        "You can't feed lists of integers into a neural network. You have to turn your lists into tensors. There are two ways to do that:\n",
        "\n",
        "* Pad your lists so that they all have the same length, turn them into an integer tensor of shape `(samples, word_indices)`, and then use as the first layer in your network a layer capable of handling such integer tensors (the \"embedding\" layer, which we'll cover in detail later in the book).\n",
        "* One-hot-encode your lists to turn them into vectors of 0s and 1s. This would mean, for instance, turning the sequence `[3, 5]` into a 10,000-dimensional vector that would be all zeros except for indices 3 and 5, which would be ones. Then you could use as the first layer in your network a dense layer, capable of handling floating-point vector data.\n",
        "\n",
        "Let's go with the latter solution and vectorize the data, which you'll do manually for maximum clarity."
      ]
    },
    {
      "cell_type": "code",
      "metadata": {
        "id": "G04-iNH1u2uD",
        "colab_type": "code",
        "colab": {}
      },
      "source": [
        "vectorize_sequences <- function(sequences, dimension = 10000) {\n",
        "  # Create an all-zero matrix of shape (len(sequences), dimension)\n",
        "  results <- matrix(0, nrow = length(sequences), ncol = dimension)\n",
        "  for (i in 1:length(sequences))\n",
        "    # Sets specific indices of results[i] to 1s\n",
        "    results[i, sequences[[i]]] <- 1\n",
        "  results\n",
        "}\n",
        "# Our vectorized training data\n",
        "x_train <- vectorize_sequences(train_data)\n",
        "# Our vectorized test data\n",
        "x_test <- vectorize_sequences(test_data)"
      ],
      "execution_count": 0,
      "outputs": []
    },
    {
      "cell_type": "markdown",
      "metadata": {
        "id": "7EGsL1Epu2uG",
        "colab_type": "text"
      },
      "source": [
        "Here's what our samples look like now:"
      ]
    },
    {
      "cell_type": "code",
      "metadata": {
        "id": "iEEz97wgu2uH",
        "colab_type": "code",
        "colab": {
          "base_uri": "https://localhost:8080/",
          "height": 34
        },
        "outputId": "f360e9b0-b877-427e-bea4-ccc58b14fe4c"
      },
      "source": [
        "str(x_train[1,])"
      ],
      "execution_count": 9,
      "outputs": [
        {
          "output_type": "stream",
          "text": [
            " num [1:10000] 1 1 0 1 1 1 1 1 1 0 ...\n"
          ],
          "name": "stdout"
        }
      ]
    },
    {
      "cell_type": "markdown",
      "metadata": {
        "id": "eXlm83cfu2uL",
        "colab_type": "text"
      },
      "source": [
        "We should also vectorize our labels, which is straightforward:"
      ]
    },
    {
      "cell_type": "code",
      "metadata": {
        "id": "-aDbKb1Nu2uM",
        "colab_type": "code",
        "colab": {}
      },
      "source": [
        "# Our vectorized labels\n",
        "y_train <- as.numeric(train_labels)\n",
        "y_test <- as.numeric(test_labels)"
      ],
      "execution_count": 0,
      "outputs": []
    },
    {
      "cell_type": "markdown",
      "metadata": {
        "id": "1RkUEo05u2uP",
        "colab_type": "text"
      },
      "source": [
        "Now our data is ready to be fed into a neural network.\n",
        "\n",
        "## Building our network\n",
        "\n",
        "The input data is vectors, and the labels are scalars (1s and 0s): this is the easiest setup you'll ever encounter. A type of network that performs well on such a problem is a simple stack of fully connected (\"dense\") layers with `relu` activations: `layer_dense(units = 16, activation = \"relu\")`.\n",
        "\n",
        "The argument being passed to each dense layer (16) is the number of hidden units of the layer. A _hidden unit_ is a dimension in the representation space of the layer. You may remember from chapter 2 that each such dense layer with a `relu` activation implements the following chain of tensor operations:\n",
        "\n",
        "`output = relu(dot(W, input) + b)`\n",
        "\n",
        "Having 16 hidden units means that the weight matrix `W` will have shape `(input_dimension, 16)`, i.e. the dot product with `W` will project the input data onto a 16-dimensional representation space (and then we would add the bias vector `b` and apply the `relu` operation). You can intuitively understand the dimensionality of your representation space as \"how much freedom you are allowing the network to have when learning internal representations\". Having more hidden units (a higher-dimensional representation space) allows your network to learn more complex representations, but it makes your network more computationally expensive and may lead to learning unwanted patterns (patterns that will improve performance on the training data but not on the test data).\n",
        "\n",
        "There are two key architecture decisions to be made about such stack of dense layers:\n",
        "\n",
        "* How many layers to use.\n",
        "* How many \"hidden units\" to chose for each layer.\n",
        "\n",
        "In the next chapter, you will learn formal principles to guide you in making these choices. For the time being, you will have to trust us with the following architecture choice: two intermediate layers with 16 hidden units each, and a third layer which will output the scalar prediction regarding the sentiment of the current review. The intermediate layers will use `relu` as their \"activation function\", and the final layer will use a sigmoid activation so as to output a probability (a score between 0 and 1, indicating how likely the sample is to have the target \"1\", i.e. how likely the review is to be positive). A `relu` (rectified linear unit) is a function meant to zero-out negative values, while a sigmoid \"squashes\" arbitrary values into the `[0, 1]` interval, thus outputting something that can be interpreted as a probability.\n",
        "\n",
        "Here's what our network looks like:\n",
        "\n",
        "![3-layer network](https://s3.amazonaws.com/book.keras.io/img/ch3/3_layer_network.png)\n",
        "\n",
        "And here's the Keras implementation, very similar to the MNIST example you saw previously:"
      ]
    },
    {
      "cell_type": "code",
      "metadata": {
        "id": "Jm45OVQTu2uQ",
        "colab_type": "code",
        "colab": {}
      },
      "source": [
        "library(keras)\n",
        "model <- keras_model_sequential() %>% \n",
        "  layer_dense(units = 16, activation = \"relu\", input_shape = c(10000)) %>% \n",
        "  layer_dense(units = 16, activation = \"relu\") %>% \n",
        "  layer_dense(units = 1, activation = \"sigmoid\")"
      ],
      "execution_count": 0,
      "outputs": []
    },
    {
      "cell_type": "markdown",
      "metadata": {
        "id": "wVN0LydFu2uT",
        "colab_type": "text"
      },
      "source": [
        "Lastly, we need to pick a loss function and an optimizer. Since we are facing a binary classification problem and the output of our network is a probability (we end our network with a single-unit layer with a sigmoid activation), is it best to use the `binary_crossentropy` loss. It isn't the only viable choice: you could use, for instance, `mean_squared_error`. But crossentropy is usually the best choice when you are dealing with models that output probabilities. Crossentropy is a quantity from the field of Information Theory, that measures the \"distance\" between probability distributions, or in our case, between the ground-truth distribution and our predictions.\n",
        "\n",
        "Here's the step where we configure our model with the `rmsprop` optimizer and the `binary_crossentropy` loss function. Note that we will also monitor accuracy during training."
      ]
    },
    {
      "cell_type": "code",
      "metadata": {
        "id": "6lhT4IHDu2uT",
        "colab_type": "code",
        "colab": {}
      },
      "source": [
        "model %>% compile(\n",
        "  optimizer = \"rmsprop\",\n",
        "  loss = \"binary_crossentropy\",\n",
        "  metrics = c(\"accuracy\")\n",
        ")"
      ],
      "execution_count": 0,
      "outputs": []
    },
    {
      "cell_type": "markdown",
      "metadata": {
        "id": "0ibTLm0Du2uV",
        "colab_type": "text"
      },
      "source": [
        "You're passing your optimizer, loss function, and metrics as strings, which is possible because `rmsprop`, `binary_crossentropy`, and `accuracy` are packaged as part of Keras. Sometimes you may want to configure the parameters of your optimizer or pass a custom loss function or metric function. The former can be done by passing an optimizer instance as the `optimizer` argument: \n"
      ]
    },
    {
      "cell_type": "code",
      "metadata": {
        "id": "9WYq7wcmu2uX",
        "colab_type": "code",
        "colab": {}
      },
      "source": [
        "model %>% compile(\n",
        "  optimizer = optimizer_rmsprop(lr=0.001),\n",
        "  loss = \"binary_crossentropy\",\n",
        "  metrics = c(\"accuracy\")\n",
        ") "
      ],
      "execution_count": 0,
      "outputs": []
    },
    {
      "cell_type": "markdown",
      "metadata": {
        "id": "hkOkXtOpu2uZ",
        "colab_type": "text"
      },
      "source": [
        "The latter can be done by passing function objects as the `loss` or `metrics` arguments:"
      ]
    },
    {
      "cell_type": "code",
      "metadata": {
        "id": "-qMBVIIsu2ua",
        "colab_type": "code",
        "colab": {}
      },
      "source": [
        "model %>% compile(\n",
        "  optimizer = optimizer_rmsprop(lr = 0.001),\n",
        "  loss = loss_binary_crossentropy,\n",
        "  metrics = metric_binary_accuracy\n",
        ") "
      ],
      "execution_count": 0,
      "outputs": []
    },
    {
      "cell_type": "markdown",
      "metadata": {
        "id": "2Ruq2b6lu2uc",
        "colab_type": "text"
      },
      "source": [
        "## Validating our approach\n",
        "\n",
        "In order to monitor during training the accuracy of the model on data that it has never seen before, we will create a \"validation set\" by setting apart 10,000 samples from the original training data:"
      ]
    },
    {
      "cell_type": "code",
      "metadata": {
        "id": "e6NwTeI8u2ud",
        "colab_type": "code",
        "colab": {}
      },
      "source": [
        "val_indices <- 1:10000\n",
        "x_val <- x_train[val_indices,]\n",
        "partial_x_train <- x_train[-val_indices,]\n",
        "y_val <- y_train[val_indices]\n",
        "partial_y_train <- y_train[-val_indices]"
      ],
      "execution_count": 0,
      "outputs": []
    },
    {
      "cell_type": "markdown",
      "metadata": {
        "id": "obGXxFuiu2uf",
        "colab_type": "text"
      },
      "source": [
        "We will now train our model for 20 epochs (20 iterations over all samples in the `x_train` and `y_train` tensors), in mini-batches of 512 samples. At this same time we will monitor loss and accuracy on the 10,000 samples that we set apart. This is done by passing the validation data as the `validation_data` argument:"
      ]
    },
    {
      "cell_type": "code",
      "metadata": {
        "hide_input": false,
        "results": "'hide'",
        "id": "6tLd-bxEu2ug",
        "colab_type": "code",
        "colab": {}
      },
      "source": [
        "model %>% compile(\n",
        "  optimizer = \"rmsprop\",\n",
        "  loss = \"binary_crossentropy\",\n",
        "  metrics = c(\"accuracy\")\n",
        ")\n",
        "history <- model %>% fit(\n",
        "  partial_x_train,\n",
        "  partial_y_train,\n",
        "  epochs = 20,\n",
        "  batch_size = 512,\n",
        "  validation_data = list(x_val, y_val)\n",
        ")"
      ],
      "execution_count": 0,
      "outputs": []
    },
    {
      "cell_type": "markdown",
      "metadata": {
        "id": "86BPeUgdu2ui",
        "colab_type": "text"
      },
      "source": [
        "On CPU, this will take less than two seconds per epoch -- training is over in 20 seconds. At the end of every epoch, there is a slight pause as the model computes its loss and accuracy on the 10,000 samples of the validation data.\n",
        "\n",
        "Note that the call to `fit()` returns a `history` object. Let's take a look at it:"
      ]
    },
    {
      "cell_type": "code",
      "metadata": {
        "id": "Zkj2X4ASu2ui",
        "colab_type": "code",
        "colab": {
          "base_uri": "https://localhost:8080/",
          "height": 272
        },
        "outputId": "e1bc7aac-f385-4254-c83f-c53581e0e9d9"
      },
      "source": [
        "str(history)"
      ],
      "execution_count": 17,
      "outputs": [
        {
          "output_type": "stream",
          "text": [
            "List of 2\n",
            " $ params :List of 7\n",
            "  ..$ metrics      : chr [1:4] \"loss\" \"acc\" \"val_loss\" \"val_acc\"\n",
            "  ..$ epochs       : int 20\n",
            "  ..$ steps        : NULL\n",
            "  ..$ do_validation: logi TRUE\n",
            "  ..$ samples      : int 15000\n",
            "  ..$ batch_size   : int 512\n",
            "  ..$ verbose      : int 0\n",
            " $ metrics:List of 4\n",
            "  ..$ acc     : num [1:20] 0.787 0.895 0.922 0.936 0.95 ...\n",
            "  ..$ loss    : num [1:20] 0.535 0.327 0.239 0.192 0.155 ...\n",
            "  ..$ val_acc : num [1:20] 0.859 0.883 0.889 0.889 0.885 ...\n",
            "  ..$ val_loss: num [1:20] 0.41 0.316 0.282 0.279 0.287 ...\n",
            " - attr(*, \"class\")= chr \"keras_training_history\"\n"
          ],
          "name": "stdout"
        }
      ]
    },
    {
      "cell_type": "markdown",
      "metadata": {
        "id": "psfNhoY0u2un",
        "colab_type": "text"
      },
      "source": [
        "The `history` object includes various parameters used to fit the model (`history$params`) as well as data for each of the metrics being monitored (`history$metrics`).\n",
        "\n",
        "The `history` object has a `plot()` method that enables us to visualize the training and validation metrics by epoch:"
      ]
    },
    {
      "cell_type": "code",
      "metadata": {
        "id": "kcTUTRrau2up",
        "colab_type": "code",
        "colab": {
          "base_uri": "https://localhost:8080/",
          "height": 857
        },
        "outputId": "eb895f5f-f988-4304-ae8f-97b1f3c1bdfb"
      },
      "source": [
        "plot(history)"
      ],
      "execution_count": 18,
      "outputs": [
        {
          "output_type": "display_data",
          "data": {
            "image/png": "iVBORw0KGgoAAAANSUhEUgAAA0gAAANICAIAAAByhViMAAAACXBIWXMAABJ0AAASdAHeZh94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\nOwAAAJUg2AEAAKjEfwEzYuirToJf7wAAAABJRU5ErkJggg==",
            "text/plain": [
              "plot without title"
            ]
          },
          "metadata": {
            "tags": []
          }
        }
      ]
    },
    {
      "cell_type": "markdown",
      "metadata": {
        "id": "3FGHZ9XCu2ur",
        "colab_type": "text"
      },
      "source": [
        "The accuracy is plotted on the top panel and the loss on the bottom panel. Note that your own results may vary \n",
        "slightly due to a different random initialization of your network.\n"
      ]
    },
    {
      "cell_type": "markdown",
      "metadata": {
        "id": "8yfJs59eu2us",
        "colab_type": "text"
      },
      "source": [
        "The dots are the training loss and accuracy, while the solid lines are the validation loss and accuracy. Note that your own results may vary slightly due to a different random initialization of your network.\n",
        "\n",
        "As you can see, the training loss decreases with every epoch, and the training accuracy increases with every epoch. That's what you would expect when running a gradient-descent optimization -- the quantity you're trying to minimize should be less with every iteration. But that isn't the case for the validation loss and accuracy: they seem to peak at the fourth epoch. This is an example of what we warned against earlier: a model that performs better on the training data isn't necessarily a model that will do better on data it has never seen before. In precise terms, what you're seeing is _overfitting_: after the second epoch, you're over-optimizing on the training data, and you end up learning representations that are specific to the training data and don't generalize to data outside of the training set.\n",
        "\n",
        "In this case, to prevent overfitting, you could stop training after three epochs. In general, you can use a range of techniques to mitigate overfitting, which we'll cover in chapter 4.\n",
        "\n",
        "Let's train a new network from scratch for four epochs and then evaluate it on the test data."
      ]
    },
    {
      "cell_type": "code",
      "metadata": {
        "hide_input": false,
        "results": "'hide'",
        "id": "ySBTfoKau2us",
        "colab_type": "code",
        "colab": {}
      },
      "source": [
        "model <- keras_model_sequential() %>% \n",
        "  layer_dense(units = 16, activation = \"relu\", input_shape = c(10000)) %>% \n",
        "  layer_dense(units = 16, activation = \"relu\") %>% \n",
        "  layer_dense(units = 1, activation = \"sigmoid\")\n",
        "model %>% compile(\n",
        "  optimizer = \"rmsprop\",\n",
        "  loss = \"binary_crossentropy\",\n",
        "  metrics = c(\"accuracy\")\n",
        ")\n",
        "model %>% fit(x_train, y_train, epochs = 4, batch_size = 512)\n",
        "results <- model %>% evaluate(x_test, y_test)"
      ],
      "execution_count": 0,
      "outputs": []
    },
    {
      "cell_type": "code",
      "metadata": {
        "id": "eldrMDuzu2uu",
        "colab_type": "code",
        "colab": {
          "base_uri": "https://localhost:8080/",
          "height": 113
        },
        "outputId": "c0d230ce-65f3-435d-a099-b543e936d194"
      },
      "source": [
        "results"
      ],
      "execution_count": 20,
      "outputs": [
        {
          "output_type": "display_data",
          "data": {
            "text/plain": [
              "$loss\n",
              "[1] 0.2921953\n",
              "\n",
              "$acc\n",
              "[1] 0.88444\n"
            ],
            "text/latex": "\\begin{description}\n\\item[\\$loss] 0.292195300989151\n\\item[\\$acc] 0.884440004825592\n\\end{description}\n",
            "text/markdown": "$loss\n:   0.292195300989151\n$acc\n:   0.884440004825592\n\n\n",
            "text/html": [
              "<dl>\n",
              "\t<dt>$loss</dt>\n",
              "\t\t<dd>0.292195300989151</dd>\n",
              "\t<dt>$acc</dt>\n",
              "\t\t<dd>0.884440004825592</dd>\n",
              "</dl>\n"
            ]
          },
          "metadata": {
            "tags": []
          }
        }
      ]
    },
    {
      "cell_type": "markdown",
      "metadata": {
        "id": "iTPauOx2u2ux",
        "colab_type": "text"
      },
      "source": [
        "Our fairly naive approach achieves an accuracy of 88%. With state-of-the-art approaches, one should be able to get close to 95%.\n",
        "\n",
        "## Using a trained network to generate predictions on new data\n",
        "\n",
        "After having trained a network, you'll want to use it in a practical setting. You can generate the likelihood of reviews being positive by using the `predict` method:"
      ]
    },
    {
      "cell_type": "code",
      "metadata": {
        "id": "y11U172Cu2uy",
        "colab_type": "code",
        "colab": {
          "base_uri": "https://localhost:8080/",
          "height": 263
        },
        "outputId": "5aa6a4c6-b40b-4ae3-d618-59adca460628"
      },
      "source": [
        "model %>% predict(x_test[1:10,])"
      ],
      "execution_count": 21,
      "outputs": [
        {
          "output_type": "display_data",
          "data": {
            "text/plain": [
              "      [,1]       \n",
              " [1,] 0.182755321\n",
              " [2,] 0.999639273\n",
              " [3,] 0.896563172\n",
              " [4,] 0.820390642\n",
              " [5,] 0.957925439\n",
              " [6,] 0.802940607\n",
              " [7,] 0.999660254\n",
              " [8,] 0.008861899\n",
              " [9,] 0.969600797\n",
              "[10,] 0.991951942"
            ],
            "text/latex": "A matrix: 10 × 1 of type dbl\n\\begin{tabular}{l}\n\t 0.182755321\\\\\n\t 0.999639273\\\\\n\t 0.896563172\\\\\n\t 0.820390642\\\\\n\t 0.957925439\\\\\n\t 0.802940607\\\\\n\t 0.999660254\\\\\n\t 0.008861899\\\\\n\t 0.969600797\\\\\n\t 0.991951942\\\\\n\\end{tabular}\n",
            "text/markdown": "\nA matrix: 10 × 1 of type dbl\n\n| 0.182755321 |\n| 0.999639273 |\n| 0.896563172 |\n| 0.820390642 |\n| 0.957925439 |\n| 0.802940607 |\n| 0.999660254 |\n| 0.008861899 |\n| 0.969600797 |\n| 0.991951942 |\n\n",
            "text/html": [
              "<table>\n",
              "<caption>A matrix: 10 × 1 of type dbl</caption>\n",
              "<tbody>\n",
              "\t<tr><td>0.182755321</td></tr>\n",
              "\t<tr><td>0.999639273</td></tr>\n",
              "\t<tr><td>0.896563172</td></tr>\n",
              "\t<tr><td>0.820390642</td></tr>\n",
              "\t<tr><td>0.957925439</td></tr>\n",
              "\t<tr><td>0.802940607</td></tr>\n",
              "\t<tr><td>0.999660254</td></tr>\n",
              "\t<tr><td>0.008861899</td></tr>\n",
              "\t<tr><td>0.969600797</td></tr>\n",
              "\t<tr><td>0.991951942</td></tr>\n",
              "</tbody>\n",
              "</table>\n"
            ]
          },
          "metadata": {
            "tags": []
          }
        }
      ]
    },
    {
      "cell_type": "markdown",
      "metadata": {
        "id": "Mxm8O4Zhu2u0",
        "colab_type": "text"
      },
      "source": [
        "As you can see, the network is very confident for some samples (0.99 or more, or 0.02 or less) but less confident for others. \n",
        "\n",
        "## Further experiments"
      ]
    },
    {
      "cell_type": "markdown",
      "metadata": {
        "id": "6raKBTw1u2u0",
        "colab_type": "text"
      },
      "source": [
        "* We were using 2 hidden layers. Try to use 1 or 3 hidden layers and see how it affects validation and test accuracy.\n",
        "* Try to use layers with more hidden units or less hidden units: 32 units, 64 units...\n",
        "* Try to use the `mse` loss function instead of `binary_crossentropy`.\n",
        "* Try to use the `tanh` activation (an activation that was popular in the early days of neural networks) instead of `relu`.\n",
        "\n",
        "These experiments will help convince you that the architecture choices we have made are all fairly reasonable, although they can still be improved!\n",
        "\n",
        "## Conclusions"
      ]
    },
    {
      "cell_type": "markdown",
      "metadata": {
        "id": "GQ6-WTAhu2u1",
        "colab_type": "text"
      },
      "source": [
        "Here's what you should take away from this example:\n",
        "\n",
        "* You usually need to do quite a bit of preprocessing on your raw data in order to be able to feed it -- as tensors -- into a neural network. Sequences of words can be encoded as binary vectors, but there are other encoding options, too.\n",
        "* Stacks of dense layers with `relu` activations can solve a wide range of problems (including sentiment classification), and you'll likely use them frequently.\n",
        "* In a binary classification problem (two output classes), your network should end with a dense layer with one unit and a `sigmoid` activation. That is, the output of your network should be a scalar between 0 and 1, encoding a probability.\n",
        "* With such a scalar sigmoid output on a binary classification problem, the loss function you should use is `binary_crossentropy`.\n",
        "* The `rmsprop` optimizer is generally a good enough choice, whatever your problem. That's one less thing for you to worry about.\n",
        "* As they get better on their training data, neural networks eventually start _overfitting_ and end up obtaining increasingly worse results on data they've never seen before. Be sure to always monitor performance on data that is outside of the training set.\n"
      ]
    }
  ]
}
>>>>>>> 30c116f0f072224227cfe5544ba4b1260f394197
